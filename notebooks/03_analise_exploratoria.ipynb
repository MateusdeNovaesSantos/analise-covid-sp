{
 "cells": [
  {
   "cell_type": "markdown",
   "id": "c01309a1",
   "metadata": {},
   "source": [
    "## 10 Exercícios de SQL para Praticar (Base de Dados COVID-19 Limpa)\n",
    "\n",
    "Utilize a tabela `covid_data_limpo` (criada no passo anterior) para responder aos seguintes exercícios de consulta SQL no Jupyter Notebook com Pandas.\n",
    "\n",
    "**Conecte-se ao banco de dados (se ainda não estiver conectado) e carregue a tabela:**"
   ]
  },
  {
   "cell_type": "code",
   "execution_count": null,
   "id": "e68b29b2",
   "metadata": {},
   "outputs": [],
   "source": [
    "import sqlite3\n",
    "import pandas as pd\n",
    "\n",
    "DATABASE_NAME = '../output/covid_data_limpo.db'\n",
    "conn = sqlite3.connect(DATABASE_NAME)\n",
    "\n",
    "df_limpo = pd.read_sql_query(\"SELECT * FROM covid_data_limpo\", conn)\n",
    "\n",
    "# Para executar as queries diretamente no banco de dados:\n",
    "def execute_query(query):\n",
    "    return pd.read_sql_query(query, conn)"
   ]
  },
  {
   "cell_type": "markdown",
   "id": "a80b12c6",
   "metadata": {},
   "source": [
    "\n",
    "**Exercícios:**\n"
   ]
  },
  {
   "cell_type": "markdown",
   "id": "73b06d6d",
   "metadata": {},
   "source": [
    "- [ ] 1.  **Seleção Básica:** Liste as colunas `date`, `confirmed` e `deaths` da tabela.\n"
   ]
  },
  {
   "cell_type": "code",
   "execution_count": null,
   "id": "51729207",
   "metadata": {},
   "outputs": [
    {
     "name": "stdout",
     "output_type": "stream",
     "text": [
      "Exercício 1:\n",
      "            date  confirmed  deaths\n",
      "0     2020-02-25          1       0\n",
      "1     2020-02-26          1       0\n",
      "2     2020-02-27          1       0\n",
      "3     2020-02-28          2       0\n",
      "4     2020-02-29          2       0\n",
      "...          ...        ...     ...\n",
      "1118  2023-03-19    6469442  179039\n",
      "1119  2023-03-20    6469442  179039\n",
      "1120  2023-03-21    6469442  179039\n",
      "1121  2023-03-22    6469442  179039\n",
      "1122  2023-03-23    6469442  179039\n",
      "\n",
      "[1123 rows x 3 columns]\n"
     ]
    }
   ],
   "source": [
    "# Exercício 1\n",
    "query_1 = \"\"\"\n",
    "SELECT date, confirmed, deaths FROM covid_data_limpo\n",
    "\"\"\"\n",
    "df_ex1 = execute_query(query_1)\n",
    "print(\"Exercício 1:\")\n",
    "print(df_ex1)"
   ]
  },
  {
   "cell_type": "markdown",
   "id": "335d7765",
   "metadata": {},
   "source": [
    "- [ ] 2.  **Filtragem (WHERE):** Liste todas as linhas onde o número de mortes (`deaths`) foi maior que 10000.\n"
   ]
  },
  {
   "cell_type": "code",
   "execution_count": null,
   "id": "77f0a027",
   "metadata": {},
   "outputs": [
    {
     "name": "stdout",
     "output_type": "stream",
     "text": [
      "\n",
      "Exercício 2:\n",
      "         date  deaths\n",
      "0  2020-06-11   10145\n",
      "1  2020-06-12   10368\n",
      "2  2020-06-13   10581\n",
      "3  2020-06-14   10694\n",
      "4  2020-06-15   10767\n"
     ]
    }
   ],
   "source": [
    "# Exercício 2\n",
    "query_2 = \"\"\"\n",
    "SELECT \n",
    "    date,\n",
    "    deaths\n",
    "FROM \n",
    "    covid_data_limpo \n",
    "WHERE \n",
    "    deaths > 10000\n",
    "\"\"\"\n",
    "df_ex2 = execute_query(query_2)\n",
    "print(\"\\nExercício 2:\")\n",
    "print(df_ex2.head())"
   ]
  },
  {
   "cell_type": "markdown",
   "id": "6afa0165",
   "metadata": {},
   "source": [
    "- [ ] 3.  **Ordenação (ORDER BY):** Liste as datas e o número de casos confirmados, ordenando os resultados pela data em ordem crescente.\n"
   ]
  },
  {
   "cell_type": "code",
   "execution_count": null,
   "id": "a166fc82",
   "metadata": {},
   "outputs": [
    {
     "name": "stdout",
     "output_type": "stream",
     "text": [
      "\n",
      "Exercício 3:\n",
      "         date  confirmed\n",
      "0  2020-02-25          1\n",
      "1  2020-02-26          1\n",
      "2  2020-02-27          1\n",
      "3  2020-02-28          2\n",
      "4  2020-02-29          2\n"
     ]
    }
   ],
   "source": [
    "# Exercício 3\n",
    "query_3 = \"\"\"\n",
    "SELECT \n",
    "    date,\n",
    "    confirmed \n",
    "FROM \n",
    "    covid_data_limpo \n",
    "ORDER BY \n",
    "    date\n",
    "\"\"\"\n",
    "df_ex3 = execute_query(query_3)\n",
    "print(\"\\nExercício 3:\")\n",
    "print(df_ex3.head())"
   ]
  },
  {
   "cell_type": "markdown",
   "id": "dceb883d",
   "metadata": {},
   "source": [
    "- [ ] 4.  **Limitar Resultados (LIMIT):** Liste as 10 primeiras linhas da tabela, mostrando as colunas `date` e `confirmed`.\n"
   ]
  },
  {
   "cell_type": "code",
   "execution_count": 9,
   "id": "563ef66a",
   "metadata": {},
   "outputs": [
    {
     "name": "stdout",
     "output_type": "stream",
     "text": [
      "\n",
      "Exercício 4:\n",
      "         date  confirmed\n",
      "0  2020-02-25          1\n",
      "1  2020-02-26          1\n",
      "2  2020-02-27          1\n",
      "3  2020-02-28          2\n",
      "4  2020-02-29          2\n",
      "5  2020-03-01          2\n",
      "6  2020-03-02          2\n",
      "7  2020-03-03          2\n",
      "8  2020-03-04          3\n",
      "9  2020-03-05          6\n"
     ]
    }
   ],
   "source": [
    "# Exercício 4\n",
    "query_4 = \"\"\"\n",
    "SELECT \n",
    "    date,\n",
    "    confirmed \n",
    "FROM \n",
    "    covid_data_limpo \n",
    "LIMIT \n",
    "    10\n",
    "\"\"\"\n",
    "df_ex4 = execute_query(query_4)\n",
    "print(\"\\nExercício 4:\")\n",
    "print(df_ex4)"
   ]
  },
  {
   "cell_type": "markdown",
   "id": "5c886615",
   "metadata": {},
   "source": [
    "- [ ] 5.  **Valores Distintos (DISTINCT):** Liste todos os valores distintos da coluna `school_closing`.\n"
   ]
  },
  {
   "cell_type": "code",
   "execution_count": 10,
   "id": "1f716829",
   "metadata": {},
   "outputs": [
    {
     "name": "stdout",
     "output_type": "stream",
     "text": [
      "\n",
      "Exercício 5:\n",
      "   school_closing\n",
      "0               0\n",
      "1              -2\n",
      "2               2\n",
      "3               3\n",
      "4              -3\n"
     ]
    }
   ],
   "source": [
    "# Exercício 5\n",
    "query_5 = \"\"\"\n",
    "SELECT \n",
    "    DISTINCT(school_closing)\n",
    "FROM \n",
    "    covid_data_limpo \n",
    "\"\"\"\n",
    "df_ex5 = execute_query(query_5)\n",
    "print(\"\\nExercício 5:\")\n",
    "print(df_ex5.head())"
   ]
  },
  {
   "cell_type": "markdown",
   "id": "f738f844",
   "metadata": {},
   "source": [
    "- [ ] 6.  **Funções de Agregação (COUNT, MAX, MIN, AVG):**\n",
    "    * a. Conte o número total de registros na tabela.\n",
    "    * b. Encontre o número máximo de casos confirmados (`confirmed`).\n",
    "    * c. Encontre o número mínimo de mortes (`deaths`).\n",
    "    * d. Calcule a média do número de testes realizados (`tests`).\n"
   ]
  },
  {
   "cell_type": "code",
   "execution_count": null,
   "id": "e7cf4d32",
   "metadata": {},
   "outputs": [
    {
     "name": "stdout",
     "output_type": "stream",
     "text": [
      "\n",
      "Exercício 6a:\n",
      "   COUNT(*)\n",
      "0      1123\n"
     ]
    }
   ],
   "source": [
    "# Exercício 6a\n",
    "query_6a = \"\"\"\n",
    "SELECT \n",
    "    COUNT(*) \n",
    "FROM \n",
    "    covid_data_limpo\n",
    "\"\"\"\n",
    "df_ex6a = execute_query(query_6a)\n",
    "print(\"\\nExercício 6a:\")\n",
    "print(df_ex6a)"
   ]
  },
  {
   "cell_type": "code",
   "execution_count": 12,
   "id": "9db57df9",
   "metadata": {},
   "outputs": [
    {
     "name": "stdout",
     "output_type": "stream",
     "text": [
      "\n",
      "Exercício 6b:\n",
      "   MAX(confirmed)\n",
      "0         6469442\n"
     ]
    }
   ],
   "source": [
    "# Exercício 6b\n",
    "query_6b = \"\"\"\n",
    "SELECT \n",
    "    MAX(confirmed)\n",
    "FROM \n",
    "    covid_data_limpo\n",
    "\"\"\"\n",
    "df_ex6b = execute_query(query_6b)\n",
    "print(\"\\nExercício 6b:\")\n",
    "print(df_ex6b)"
   ]
  },
  {
   "cell_type": "code",
   "execution_count": 14,
   "id": "573640b5",
   "metadata": {},
   "outputs": [
    {
     "name": "stdout",
     "output_type": "stream",
     "text": [
      "\n",
      "Exercício 6c:\n",
      "   MIN(deaths)\n",
      "0            0\n"
     ]
    }
   ],
   "source": [
    "# Exercício 6c\n",
    "query_6c = \"\"\"\n",
    "SELECT \n",
    "    MIN(deaths)\n",
    "FROM \n",
    "    covid_data_limpo\n",
    "\"\"\"\n",
    "df_ex6c = execute_query(query_6c)\n",
    "print(\"\\nExercício 6c:\")\n",
    "print(df_ex6c)"
   ]
  },
  {
   "cell_type": "code",
   "execution_count": 15,
   "id": "67b41141",
   "metadata": {},
   "outputs": [
    {
     "name": "stdout",
     "output_type": "stream",
     "text": [
      "\n",
      "Exercício 6d:\n",
      "     AVG(tests)\n",
      "0  1.288891e+07\n"
     ]
    }
   ],
   "source": [
    "# Exercício 6d\n",
    "query_6d = \"\"\"\n",
    "SELECT \n",
    "    AVG(tests) \n",
    "FROM \n",
    "    covid_data_limpo\n",
    "\"\"\"\n",
    "df_ex6d = execute_query(query_6d)\n",
    "print(\"\\nExercício 6d:\")\n",
    "print(df_ex6d)"
   ]
  },
  {
   "cell_type": "markdown",
   "id": "5df9d1d6",
   "metadata": {},
   "source": [
    "- [ ] 7.  **Agrupamento (GROUP BY):** Conte o número de registros para cada valor distinto da coluna `school_closing`.\n"
   ]
  },
  {
   "cell_type": "code",
   "execution_count": 19,
   "id": "3c8999ce",
   "metadata": {},
   "outputs": [
    {
     "name": "stdout",
     "output_type": "stream",
     "text": [
      "\n",
      "Exercício 7:\n",
      "   school_closing  COUNT(school_closing)\n",
      "0              -3                     11\n",
      "1              -2                     76\n",
      "2              -1                     62\n",
      "3               0                    223\n",
      "4               1                    298\n",
      "5               2                    160\n",
      "6               3                    293\n"
     ]
    }
   ],
   "source": [
    "# Exercício 7\n",
    "query_7 = \"\"\"\n",
    "SELECT\n",
    "    DISTINCT(school_closing),\n",
    "    COUNT(school_closing)\n",
    "FROM \n",
    "    covid_data_limpo\n",
    "GROUP BY \n",
    "    school_closing\n",
    "\"\"\"\n",
    "df_ex7 = execute_query(query_7)\n",
    "print(\"\\nExercício 7:\")\n",
    "print(df_ex7)"
   ]
  },
  {
   "cell_type": "markdown",
   "id": "86e4a436",
   "metadata": {},
   "source": [
    "- [ ] 8.  **Filtragem em Grupos (HAVING):** Liste os valores de `school_closing` que têm mais de 50 registros associados.\n"
   ]
  },
  {
   "cell_type": "code",
   "execution_count": 28,
   "id": "2de78119",
   "metadata": {},
   "outputs": [
    {
     "name": "stdout",
     "output_type": "stream",
     "text": [
      "\n",
      "Exercício 8:\n",
      "   school_closing  COUNT(school_closing)\n",
      "0              -2                     76\n",
      "1              -1                     62\n",
      "2               0                    223\n",
      "3               1                    298\n",
      "4               2                    160\n",
      "5               3                    293\n"
     ]
    }
   ],
   "source": [
    "# Exercício 8\n",
    "query_8 = \"\"\"\n",
    "SELECT\n",
    "    DISTINCT(school_closing),\n",
    "    COUNT(school_closing)\n",
    "FROM \n",
    "    covid_data_limpo\n",
    "GROUP BY \n",
    "    school_closing\n",
    "HAVING \n",
    "    COUNT(school_closing) > 50\n",
    "\"\"\"\n",
    "df_ex8 = execute_query(query_8)\n",
    "print(\"\\nExercício 8:\")\n",
    "print(df_ex8)"
   ]
  },
  {
   "cell_type": "markdown",
   "id": "7684ef57",
   "metadata": {},
   "source": [
    "- [ ] 9.  **Subquery:** Liste as datas onde o número de casos confirmados foi superior à média de todos os casos confirmados.\n"
   ]
  },
  {
   "cell_type": "code",
   "execution_count": 34,
   "id": "7de41dc8",
   "metadata": {},
   "outputs": [
    {
     "name": "stdout",
     "output_type": "stream",
     "text": [
      "\n",
      "Exercício 9:\n",
      "           date\n",
      "0    2021-06-19\n",
      "1    2021-06-20\n",
      "2    2021-06-21\n",
      "3    2021-06-22\n",
      "4    2021-06-23\n",
      "..          ...\n",
      "638  2023-03-19\n",
      "639  2023-03-20\n",
      "640  2023-03-21\n",
      "641  2023-03-22\n",
      "642  2023-03-23\n",
      "\n",
      "[643 rows x 1 columns]\n"
     ]
    }
   ],
   "source": [
    "# Exercício 9\n",
    "query_9 = \"\"\"\n",
    "SELECT\n",
    "    date\n",
    "FROM \n",
    "    covid_data_limpo\n",
    "WHERE\n",
    "    confirmed > (SELECT AVG(confirmed) FROM covid_data_limpo)\n",
    "\"\"\"\n",
    "df_ex9 = execute_query(query_9)\n",
    "print(\"\\nExercício 9:\")\n",
    "print(df_ex9)"
   ]
  },
  {
   "cell_type": "markdown",
   "id": "3e51fcdc",
   "metadata": {},
   "source": [
    "- [ ] 10. **Cálculos:** Crie uma nova coluna chamada `case_fatality_rate` (taxa de letalidade) calculada como (`deaths` / `confirmed`) * 100. Liste as colunas `date`, `confirmed`, `deaths` e a nova coluna `case_fatality_rate`."
   ]
  },
  {
   "cell_type": "code",
   "execution_count": null,
   "id": "85395510",
   "metadata": {},
   "outputs": [
    {
     "name": "stdout",
     "output_type": "stream",
     "text": [
      "\n",
      "Exercício 10:\n",
      "            date  confirmed  deaths  case_fatality_rate\n",
      "0     2020-02-25          1       0            0.000000\n",
      "1     2020-02-26          1       0            0.000000\n",
      "2     2020-02-27          1       0            0.000000\n",
      "3     2020-02-28          2       0            0.000000\n",
      "4     2020-02-29          2       0            0.000000\n",
      "...          ...        ...     ...                 ...\n",
      "1118  2023-03-19    6469442  179039            2.767457\n",
      "1119  2023-03-20    6469442  179039            2.767457\n",
      "1120  2023-03-21    6469442  179039            2.767457\n",
      "1121  2023-03-22    6469442  179039            2.767457\n",
      "1122  2023-03-23    6469442  179039            2.767457\n",
      "\n",
      "[1123 rows x 4 columns]\n"
     ]
    }
   ],
   "source": [
    "# Exercício 10\n",
    "query_10 = \"\"\"\n",
    "SELECT\n",
    "    date,\n",
    "    confirmed,\n",
    "    deaths,\n",
    "    (CAST(deaths AS REAL)/confirmed)*100 AS case_fatality_rate\n",
    "FROM \n",
    "    covid_data_limpo\n",
    "\"\"\"\n",
    "df_ex10 = execute_query(query_10)\n",
    "print(\"\\nExercício 10:\")\n",
    "print(df_ex10)"
   ]
  },
  {
   "cell_type": "code",
   "execution_count": 48,
   "id": "b6198c10",
   "metadata": {},
   "outputs": [],
   "source": [
    "conn.close()"
   ]
  }
 ],
 "metadata": {
  "kernelspec": {
   "display_name": "base",
   "language": "python",
   "name": "python3"
  },
  "language_info": {
   "codemirror_mode": {
    "name": "ipython",
    "version": 3
   },
   "file_extension": ".py",
   "mimetype": "text/x-python",
   "name": "python",
   "nbconvert_exporter": "python",
   "pygments_lexer": "ipython3",
   "version": "3.12.7"
  }
 },
 "nbformat": 4,
 "nbformat_minor": 5
}
