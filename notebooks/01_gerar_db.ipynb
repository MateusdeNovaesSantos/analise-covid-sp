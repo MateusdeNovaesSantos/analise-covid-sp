{
 "cells": [
  {
   "cell_type": "markdown",
   "id": "045c70f4",
   "metadata": {},
   "source": [
    "### Imports e Constantes"
   ]
  },
  {
   "cell_type": "code",
   "execution_count": null,
   "id": "7fcce8d2",
   "metadata": {},
   "outputs": [],
   "source": [
    "import sqlite3\n",
    "import pandas as pd\n",
    "\n",
    "csv_file = \"../data/covid_data.csv\" \n",
    "sqlite_file = \"../data/covid_data.db\"\n",
    "table_name = \"covid_data\"\n"
   ]
  },
  {
   "cell_type": "markdown",
   "id": "acd3028f",
   "metadata": {},
   "source": [
    "### 1. Carrega o CSV em um DataFrame"
   ]
  },
  {
   "cell_type": "code",
   "execution_count": null,
   "id": "25dbfd0b",
   "metadata": {},
   "outputs": [],
   "source": [
    "df = pd.read_csv(csv_file)"
   ]
  },
  {
   "cell_type": "markdown",
   "id": "7b381f05",
   "metadata": {},
   "source": [
    "### 2. Cria o banco SQLite e salva o DataFrame como uma tabela"
   ]
  },
  {
   "cell_type": "code",
   "execution_count": null,
   "id": "3afe3e3a",
   "metadata": {},
   "outputs": [],
   "source": [
    "\n",
    "conn = sqlite3.connect(sqlite_file)\n",
    "df.to_sql(table_name, conn, if_exists=\"replace\", index=False)\n",
    "\n",
    "conn.close() # fecha a conexão\n",
    "\n",
    "print(f\"Arquivo SQLite salvo como {sqlite_file}\")"
   ]
  }
 ],
 "metadata": {
  "language_info": {
   "name": "python"
  }
 },
 "nbformat": 4,
 "nbformat_minor": 5
}
